{
 "cells": [
  {
   "cell_type": "code",
   "execution_count": 2,
   "id": "d7c88013",
   "metadata": {},
   "outputs": [
    {
     "name": "stdout",
     "output_type": "stream",
     "text": [
      "Ingrese la cantidad de formularios que desea completar: 1\n",
      "\n",
      "Formulario 1\n",
      "Ingrese su nombre: will\n",
      "Ingrese su edad: 2\n",
      "Ingrese su correo electrónico: 5\n",
      "ingrese su correo pais de origenperu\n",
      "\n",
      "Información del formulario:\n",
      "Nombre: will\n",
      "Edad: 2\n",
      "Email: 5\n",
      "Pai: peru\n"
     ]
    }
   ],
   "source": [
    "def solicitar_informacion():\n",
    "    formulario = {}\n",
    "    formulario['nombre'] = input('Ingrese su nombre: ')\n",
    "    formulario['edad'] = input('Ingrese su edad: ')\n",
    "    formulario['email'] = input('Ingrese su correo electrónico: ')\n",
    "    formulario[\"pais\"] = input(\"ingrese su correo pais de origen\")\n",
    "    \n",
    "    return formulario\n",
    "\n",
    "def mostrar_informacion(formulario):\n",
    "    print('Información del formulario:')\n",
    "    print('Nombre:', formulario['nombre'])\n",
    "    print('Edad:', formulario['edad'])\n",
    "    print('Email:', formulario['email'])\n",
    "    print(\"Pai:\", formulario[\"pais\"])\n",
    "\n",
    "def main():\n",
    "    formularios = []\n",
    "    cantidad_formularios = int(input('Ingrese la cantidad de formularios que desea completar: '))\n",
    "\n",
    "    for _ in range(cantidad_formularios):\n",
    "        print('\\nFormulario', len(formularios) + 1)\n",
    "        formulario = solicitar_informacion()\n",
    "        formularios.append(formulario)\n",
    "\n",
    "    for formulario in formularios:\n",
    "        print()\n",
    "        mostrar_informacion(formulario)\n",
    "\n",
    "if __name__ == '__main__':\n",
    "    main()"
   ]
  },
  {
   "cell_type": "code",
   "execution_count": null,
   "id": "198325e4",
   "metadata": {},
   "outputs": [],
   "source": []
  }
 ],
 "metadata": {
  "kernelspec": {
   "display_name": "Python 3 (ipykernel)",
   "language": "python",
   "name": "python3"
  },
  "language_info": {
   "codemirror_mode": {
    "name": "ipython",
    "version": 3
   },
   "file_extension": ".py",
   "mimetype": "text/x-python",
   "name": "python",
   "nbconvert_exporter": "python",
   "pygments_lexer": "ipython3",
   "version": "3.10.9"
  }
 },
 "nbformat": 4,
 "nbformat_minor": 5
}
